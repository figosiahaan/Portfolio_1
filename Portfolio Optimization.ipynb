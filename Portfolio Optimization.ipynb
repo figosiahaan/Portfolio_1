{
 "cells": [
  {
   "cell_type": "markdown",
   "id": "2d9df0ff",
   "metadata": {},
   "source": [
    "# Portfolio Optimization\n",
    "Creating two investment portfolios of $10,000 with four stocks, where the first portfolio will have equal weighting among the stocks, and the second portfolio will be optimized for risk-adjusted return. \n",
    "1. The process includes importing two years of stock data \n",
    "2. building the initial portfolio with equal weighting, analyzing and visualizing it \n",
    "3. generating 10,000 portfolio scenarios with random weightings\n",
    "4. identifying the best portfolio among the scenarios while visualizing the results."
   ]
  },
  {
   "cell_type": "code",
   "execution_count": 4,
   "id": "9187de70",
   "metadata": {},
   "outputs": [],
   "source": [
    "import pandas as pd\n",
    "import numpy as np\n",
    "import matplotlib.pyplot as plt\n",
    "%matplotlib inline"
   ]
  },
  {
   "cell_type": "code",
   "execution_count": 5,
   "id": "c7047008",
   "metadata": {},
   "outputs": [],
   "source": [
    "stock_list = ['AMD', 'AAPL', 'MSFT', 'ORCL']\n",
    "\n",
    "stocks = {}\n",
    "\n",
    "for i_stock in stock_list:\n",
    "    stocks[i_stock] = pd.read_csv(str(i_stock + '.csv'), parse_dates=True, index_col = 'Date')"
   ]
  },
  {
   "cell_type": "code",
   "execution_count": null,
   "id": "f3619470",
   "metadata": {},
   "outputs": [],
   "source": [
    "stocks['AMD'].head()"
   ]
  },
  {
   "cell_type": "markdown",
   "id": "2733fc05",
   "metadata": {
    "tags": []
   },
   "source": [
    "## Equal-Weighted Portfolio\n",
    "* Normalized Return = Adjusted Close / Adjusted Close on the `startdate` of the portfolio\n",
    "* Allocation = Normalized Return * 0.25 (equal weighting for each of the four stocks)\n",
    "* Position Value = Allocation * 10,000 (value of the portfolio)"
   ]
  },
  {
   "cell_type": "code",
   "execution_count": null,
   "id": "3f5388a1",
   "metadata": {},
   "outputs": [],
   "source": [
    "for stock_name, stock_data in stocks.items():\n",
    "    first_adj_close = stock_data.iloc[0]['Adj Close']\n",
    "    stock_data['Normalized Return'] = stock_data['Adj Close'] / first_adj_close"
   ]
  },
  {
   "cell_type": "code",
   "execution_count": null,
   "id": "a0ae4ce2",
   "metadata": {},
   "outputs": [],
   "source": [
    "stocks['AAPL'].head()"
   ]
  },
  {
   "cell_type": "code",
   "execution_count": null,
   "id": "8a605d85",
   "metadata": {},
   "outputs": [],
   "source": [
    "for stock_name, stock_data in stocks.items():\n",
    "    stock_data['Allocation'] = stock_data['Normalized Return'] * 0.25"
   ]
  },
  {
   "cell_type": "code",
   "execution_count": null,
   "id": "c89341de",
   "metadata": {},
   "outputs": [],
   "source": [
    "stocks['MSFT'].head()"
   ]
  },
  {
   "cell_type": "code",
   "execution_count": null,
   "id": "4ad751db",
   "metadata": {},
   "outputs": [],
   "source": [
    "for stock_name, stock_data in stocks.items():\n",
    "    stock_data['Position Value'] = stock_data['Allocation'] * 10000"
   ]
  },
  {
   "cell_type": "code",
   "execution_count": null,
   "id": "53c36f9d",
   "metadata": {},
   "outputs": [],
   "source": [
    "stocks['ORCL'].head()"
   ]
  },
  {
   "cell_type": "markdown",
   "id": "26d042b6",
   "metadata": {},
   "source": [
    "## Visualize Portfolio Performance"
   ]
  },
  {
   "cell_type": "code",
   "execution_count": null,
   "id": "fc9cadf3",
   "metadata": {},
   "outputs": [],
   "source": [
    "position_values = {}\n",
    "\n",
    "for stock_name, stock_data in stocks.items():\n",
    "    position_values[stock_name] = stock_data['Position Value']"
   ]
  },
  {
   "cell_type": "code",
   "execution_count": null,
   "id": "3a7ffce6",
   "metadata": {},
   "outputs": [],
   "source": [
    "position_values = pd.DataFrame(data=position_values)\n",
    "\n",
    "position_values.head()"
   ]
  },
  {
   "cell_type": "code",
   "execution_count": null,
   "id": "c778dba8",
   "metadata": {},
   "outputs": [],
   "source": [
    "position_values['Total'] = position_values.sum(axis=1)"
   ]
  },
  {
   "cell_type": "code",
   "execution_count": null,
   "id": "9b2d20f8",
   "metadata": {},
   "outputs": [],
   "source": [
    "position_values.head()"
   ]
  },
  {
   "cell_type": "code",
   "execution_count": null,
   "id": "dbee56dd",
   "metadata": {},
   "outputs": [],
   "source": [
    "plt.figure(figsize=(12, 8))\n",
    "\n",
    "plt.plot(position_values['Total'])\n",
    "\n",
    "plt.title('Equal-Weighted Portfolio Performance')\n",
    "plt.ylabel('Total Value');"
   ]
  },
  {
   "cell_type": "code",
   "execution_count": 2,
   "id": "8a4c4f02",
   "metadata": {},
   "outputs": [
    {
     "ename": "NameError",
     "evalue": "name 'plt' is not defined",
     "output_type": "error",
     "traceback": [
      "\u001b[0;31m---------------------------------------------------------------------------\u001b[0m",
      "\u001b[0;31mNameError\u001b[0m                                 Traceback (most recent call last)",
      "Cell \u001b[0;32mIn[2], line 1\u001b[0m\n\u001b[0;32m----> 1\u001b[0m \u001b[43mplt\u001b[49m\u001b[38;5;241m.\u001b[39mfigure(figsize\u001b[38;5;241m=\u001b[39m(\u001b[38;5;241m12\u001b[39m, \u001b[38;5;241m8\u001b[39m))\n\u001b[1;32m      3\u001b[0m plt\u001b[38;5;241m.\u001b[39mplot(position_values\u001b[38;5;241m.\u001b[39miloc[:,\u001b[38;5;241m0\u001b[39m:\u001b[38;5;241m4\u001b[39m])\n\u001b[1;32m      5\u001b[0m plt\u001b[38;5;241m.\u001b[39mtitle(\u001b[38;5;124m'\u001b[39m\u001b[38;5;124mEqual-Weighted Portfolio Stock Performance\u001b[39m\u001b[38;5;124m'\u001b[39m)\n",
      "\u001b[0;31mNameError\u001b[0m: name 'plt' is not defined"
     ]
    }
   ],
   "source": [
    "plt.figure(figsize=(12, 8))\n",
    "\n",
    "plt.plot(position_values.iloc[:,0:4])\n",
    "\n",
    "plt.title('Equal-Weighted Portfolio Stock Performance')\n",
    "plt.ylabel('Total Value');"
   ]
  },
  {
   "cell_type": "markdown",
   "id": "e79bf233",
   "metadata": {},
   "source": [
    "## Performance Metrics for the Portfolio\n",
    " * Cumulative Return\n",
    " * Mean Daily Return\n",
    " * Standard Deviation Daily Return\n",
    " * Sharpe Ratio\n",
    " * Annualized Sharpe Ratio"
   ]
  },
  {
   "cell_type": "code",
   "execution_count": null,
   "id": "1005b5e3",
   "metadata": {},
   "outputs": [],
   "source": [
    "end_value = position_values['Total'][-1]\n",
    "start_value = position_values['Total'][0]\n",
    "\n",
    "cumulative_return = end_value / start_value - 1\n",
    "\n",
    "print(str(round(cumulative_return*100,2)), '%')"
   ]
  },
  {
   "cell_type": "code",
   "execution_count": null,
   "id": "aafd2d14",
   "metadata": {},
   "outputs": [],
   "source": [
    "position_values['Daily Return'] = position_values['Total'].pct_change()\n",
    "\n",
    "position_values.head()"
   ]
  },
  {
   "cell_type": "code",
   "execution_count": null,
   "id": "5879e065",
   "metadata": {},
   "outputs": [],
   "source": [
    "mean_daily_return = position_values['Daily Return'].mean()\n",
    "\n",
    "print('The mean daily return is:', str(round(mean_daily_return, 4)))"
   ]
  },
  {
   "cell_type": "code",
   "execution_count": null,
   "id": "1138fc75",
   "metadata": {},
   "outputs": [],
   "source": [
    "std_daily_return = position_values['Daily Return'].std()\n",
    "\n",
    "print('The std daily return is:', str(round(std_daily_return, 4)))"
   ]
  },
  {
   "cell_type": "markdown",
   "id": "f5ac9439",
   "metadata": {},
   "source": [
    "### Sharpe Ratio\n",
    "The Sharpe ratio is a useful metric for quantifying the amount of return generated by a given level of risk. When comparing two different investments against the same benchmark, the investment with a higher Sharpe ratio offers a greater return for the same level of risk or the same return for a lower risk than the other investment. The Sharpe ratio formula involves subtracting a risk-free rate (e.g., government bond yields) from the average return of the portfolio and then dividing the result by the standard deviation of the return. Since we assume the risk-free rate to be negligible, we can omit it from the Sharpe ratio calculation in this case.\n",
    "\n",
    "\n"
   ]
  },
  {
   "cell_type": "code",
   "execution_count": null,
   "id": "3693e3dd",
   "metadata": {},
   "outputs": [],
   "source": [
    "sharpe_ratio = mean_daily_return / std_daily_return\n",
    "\n",
    "sharpe_ratio"
   ]
  },
  {
   "cell_type": "code",
   "execution_count": null,
   "id": "ae5bb80b",
   "metadata": {},
   "outputs": [],
   "source": [
    "sharpe_ratio_annualized = sharpe_ratio * 252**0.5\n",
    "\n",
    "sharpe_ratio_annualized"
   ]
  },
  {
   "cell_type": "markdown",
   "id": "de803160",
   "metadata": {},
   "source": [
    "## Scenarios to Optimize Portfolio Weighting\n",
    "Generating the scenarios to optimize the portfolio weighting:\n",
    " * Dictionary containing the adjusted close for each of our stocks: stock_adj_close\n",
    " * Dictionary that transforms the adjusted close for each day to a percent change from the previous day\n"
   ]
  },
  {
   "cell_type": "code",
   "execution_count": null,
   "id": "434b0dcd",
   "metadata": {},
   "outputs": [],
   "source": [
    "stock_adj_close = {}\n",
    "\n",
    "for stock_name, stock_data in stocks.items():\n",
    "    stock_adj_close[stock_name] = stock_data['Adj Close']"
   ]
  },
  {
   "cell_type": "code",
   "execution_count": null,
   "id": "0ffa9762",
   "metadata": {},
   "outputs": [],
   "source": [
    "stock_adj_close = pd.DataFrame(data=stock_adj_close)\n",
    "\n",
    "stock_adj_close.head()"
   ]
  },
  {
   "cell_type": "code",
   "execution_count": null,
   "id": "95bf6803",
   "metadata": {},
   "outputs": [],
   "source": [
    "stock_returns = stock_adj_close.pct_change()\n",
    "\n",
    "stock_returns.head()"
   ]
  },
  {
   "cell_type": "markdown",
   "id": "ce3c7f1a",
   "metadata": {},
   "source": [
    "## Build & Run 10,000 Portfolio Scenarios\n",
    "B uild the structures required to generate these scenarios and store the output. To do this, will use the `numpy.zeros()` function. \n",
    " * weights_array - this array will have 10,000 rows and 4 columns and hold the weighting allocation for each stock\n",
    " * returns_array - this array will contain the portfolio return for each scenario\n",
    " * volatility_array - this array will contain the portfolio volatility for each scenario\n",
    " * sharpe_array - this array will contain the sharpe ratio for each scenario"
   ]
  },
  {
   "cell_type": "code",
   "execution_count": null,
   "id": "26aae2af",
   "metadata": {},
   "outputs": [],
   "source": [
    "scenarios = 10000\n",
    "\n",
    "weights_array = np.zeros((scenarios, len(stock_returns.columns)))\n",
    "\n",
    "weights_array"
   ]
  },
  {
   "cell_type": "code",
   "execution_count": null,
   "id": "5245589e",
   "metadata": {},
   "outputs": [],
   "source": [
    "returns_array = np.zeros(scenarios)\n",
    "volatility_array = np.zeros(scenarios)\n",
    "sharpe_array = np.zeros(scenarios)"
   ]
  },
  {
   "cell_type": "code",
   "execution_count": null,
   "id": "1815480a",
   "metadata": {},
   "outputs": [],
   "source": [
    "import random\n",
    "random.seed(3)\n",
    "np.random.seed(3)\n",
    "\n",
    "for index in range(scenarios): \n",
    "    numbers = np.array(np.random.random(4))\n",
    "    \n",
    "    weights = numbers / np.sum(numbers)\n",
    "    \n",
    "    weights_array[index,:] = weights\n",
    "    \n",
    "    returns_array[index] = np.sum(stock_returns.mean()*252*weights)\n",
    "    \n",
    "    volatility_array[index] = np.sqrt(np.dot(weights.T,np.dot(stock_returns.cov()*252, weights)))\n",
    "\n",
    "    sharpe_array[index] = returns_array[index] / volatility_array[index]"
   ]
  },
  {
   "cell_type": "code",
   "execution_count": null,
   "id": "119d847f",
   "metadata": {},
   "outputs": [],
   "source": [
    "print(\"The first combination:\", weights_array[0])"
   ]
  },
  {
   "cell_type": "code",
   "execution_count": null,
   "id": "ccd573c2",
   "metadata": {},
   "outputs": [],
   "source": [
    "print(\"The sharpe ratio of the first portfolio:\", sharpe_array[0])"
   ]
  },
  {
   "cell_type": "markdown",
   "id": "47e6455a",
   "metadata": {},
   "source": [
    "## Identify the Optimal Portfolio\n"
   ]
  },
  {
   "cell_type": "code",
   "execution_count": null,
   "id": "54a088bd",
   "metadata": {},
   "outputs": [],
   "source": [
    "sharpe_array.max()"
   ]
  },
  {
   "cell_type": "code",
   "execution_count": null,
   "id": "f5d73de5",
   "metadata": {},
   "outputs": [],
   "source": [
    "index_max_sharpe = sharpe_array.argmax()\n",
    "index_max_sharpe"
   ]
  },
  {
   "cell_type": "code",
   "execution_count": null,
   "id": "0cb85e68",
   "metadata": {},
   "outputs": [],
   "source": [
    "print(stock_list)\n",
    "print(weights_array[index_max_sharpe,:])"
   ]
  },
  {
   "cell_type": "markdown",
   "id": "a26b16aa",
   "metadata": {},
   "source": [
    "## Visualize the Optimal Portfolio & Portfolio Scenarios"
   ]
  },
  {
   "cell_type": "code",
   "execution_count": null,
   "id": "d02af92e",
   "metadata": {},
   "outputs": [],
   "source": [
    "plt.figure(figsize=(12,8))\n",
    "\n",
    "plt.scatter(volatility_array, returns_array, c=sharpe_array, cmap='viridis')\n",
    "\n",
    "plt.colorbar(label='Sharpe Ratio')\n",
    "plt.xlabel('Volatility')\n",
    "plt.ylabel('Return');"
   ]
  },
  {
   "cell_type": "code",
   "execution_count": 3,
   "id": "401ebb80",
   "metadata": {},
   "outputs": [
    {
     "ename": "NameError",
     "evalue": "name 'returns_array' is not defined",
     "output_type": "error",
     "traceback": [
      "\u001b[0;31m---------------------------------------------------------------------------\u001b[0m",
      "\u001b[0;31mNameError\u001b[0m                                 Traceback (most recent call last)",
      "Cell \u001b[0;32mIn[3], line 1\u001b[0m\n\u001b[0;32m----> 1\u001b[0m max_sharpe_return \u001b[38;5;241m=\u001b[39m \u001b[43mreturns_array\u001b[49m[index_max_sharpe]\n\u001b[1;32m      2\u001b[0m max_sharpe_volatility \u001b[38;5;241m=\u001b[39m volatility_array[index_max_sharpe]\n\u001b[1;32m      4\u001b[0m plt\u001b[38;5;241m.\u001b[39mfigure(figsize\u001b[38;5;241m=\u001b[39m(\u001b[38;5;241m12\u001b[39m,\u001b[38;5;241m8\u001b[39m))\n",
      "\u001b[0;31mNameError\u001b[0m: name 'returns_array' is not defined"
     ]
    }
   ],
   "source": [
    "max_sharpe_return = returns_array[index_max_sharpe]\n",
    "max_sharpe_volatility = volatility_array[index_max_sharpe]\n",
    "\n",
    "plt.figure(figsize=(12,8))\n",
    "\n",
    "plt.scatter(volatility_array, returns_array, c=sharpe_array, cmap='viridis')\n",
    "\n",
    "plt.colorbar(label='Sharpe Ratio')\n",
    "plt.xlabel('Volatility')\n",
    "plt.ylabel('Return')\n",
    "\n",
    "plt.scatter(max_sharpe_volatility, max_sharpe_return, c='orange', edgecolors='black');"
   ]
  },
  {
   "cell_type": "code",
   "execution_count": null,
   "id": "1d438684-45e6-43e0-88a3-d7e92b9dce91",
   "metadata": {},
   "outputs": [],
   "source": []
  }
 ],
 "metadata": {
  "kernelspec": {
   "display_name": "Python 3 (ipykernel)",
   "language": "python",
   "name": "python3"
  },
  "language_info": {
   "codemirror_mode": {
    "name": "ipython",
    "version": 3
   },
   "file_extension": ".py",
   "mimetype": "text/x-python",
   "name": "python",
   "nbconvert_exporter": "python",
   "pygments_lexer": "ipython3",
   "version": "3.10.9"
  }
 },
 "nbformat": 4,
 "nbformat_minor": 5
}
